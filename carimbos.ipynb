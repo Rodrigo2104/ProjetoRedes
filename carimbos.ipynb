{
 "cells": [
  {
   "cell_type": "markdown",
   "metadata": {},
   "source": [
    "# Rede de Carimbos"
   ]
  },
  {
   "cell_type": "code",
   "execution_count": 2,
   "metadata": {},
   "outputs": [
    {
     "data": {
      "text/html": [
       "        <script type=\"text/javascript\">\n",
       "        window.PlotlyConfig = {MathJaxConfig: 'local'};\n",
       "        if (window.MathJax) {MathJax.Hub.Config({SVG: {font: \"STIX-Web\"}});}\n",
       "        if (typeof require !== 'undefined') {\n",
       "        require.undef(\"plotly\");\n",
       "        requirejs.config({\n",
       "            paths: {\n",
       "                'plotly': ['https://cdn.plot.ly/plotly-latest.min']\n",
       "            }\n",
       "        });\n",
       "        require(['plotly'], function(Plotly) {\n",
       "            window._Plotly = Plotly;\n",
       "        });\n",
       "        }\n",
       "        </script>\n",
       "        "
      ]
     },
     "metadata": {},
     "output_type": "display_data"
    }
   ],
   "source": [
    "\n",
    "\n",
    "import seaborn as sns\n",
    "\n",
    "import networkx as nx\n",
    "\n",
    "import freeman as fm\n",
    "\n",
    "import operator\n",
    "\n",
    "from statistics import mean"
   ]
  },
  {
   "cell_type": "markdown",
   "metadata": {},
   "source": [
    "## Carregamento da rede"
   ]
  },
  {
   "cell_type": "code",
   "execution_count": 3,
   "metadata": {},
   "outputs": [],
   "source": [
    "g = fm.load('base2000.gml')"
   ]
  },
  {
   "cell_type": "markdown",
   "metadata": {},
   "source": [
    "## Agrupamento dos nós"
   ]
  },
  {
   "cell_type": "code",
   "execution_count": 4,
   "metadata": {},
   "outputs": [],
   "source": [
    "g.move('kamada_kawai')"
   ]
  },
  {
   "cell_type": "markdown",
   "metadata": {},
   "source": [
    "## Ajustes visuais"
   ]
  },
  {
   "cell_type": "code",
   "execution_count": 5,
   "metadata": {},
   "outputs": [],
   "source": [
    "g.label_nodes()\n",
    "g.set_all_nodes(size=15, labpos='hover')\n",
    "g.set_all_edges(color=(0, 0, 0, 0.5))"
   ]
  },
  {
   "cell_type": "markdown",
   "metadata": {},
   "source": [
    "## Visualização interativa\n",
    "\n",
    "* Para ver o nome de um nó, coloque o mouse em cima.\n",
    "\n",
    "* Para mover um nó, arraste com o mouse."
   ]
  },
  {
   "cell_type": "code",
   "execution_count": 6,
   "metadata": {},
   "outputs": [
    {
     "data": {
      "text/html": [
       "\n",
       "        <iframe\n",
       "            width=\"810\"\n",
       "            height=\"460\"\n",
       "            src=\"__fmcache__\\270995368.html\"\n",
       "            frameborder=\"0\"\n",
       "            allowfullscreen\n",
       "        ></iframe>\n",
       "        "
      ],
      "text/plain": [
       "<IPython.lib.display.IFrame at 0x61d6f28>"
      ]
     },
     "metadata": {},
     "output_type": "display_data"
    }
   ],
   "source": [
    "g.interact()"
   ]
  },
  {
   "cell_type": "code",
   "execution_count": 13,
   "metadata": {},
   "outputs": [
    {
     "name": "stdout",
     "output_type": "stream",
     "text": [
      "média: 0.035730804810360776\n",
      "Atores mais importantes:\n"
     ]
    },
    {
     "data": {
      "text/plain": [
       "['lucasmm11',\n",
       " 'marcelotp2',\n",
       " 'joaovrs1',\n",
       " 'pedrohcd1',\n",
       " 'gabrielfz',\n",
       " 'felipeant',\n",
       " 'corinnajz',\n",
       " 'gabrielaic',\n",
       " 'luizvgt',\n",
       " 'thiagovcs',\n",
       " 'gabrielmd',\n",
       " 'pedrolcb',\n",
       " 'vitorge',\n",
       " 'vitorcm2',\n",
       " 'rodrigojoj',\n",
       " 'rafaelama',\n",
       " 'mayraprl',\n",
       " 'emanuellesm',\n",
       " 'matheusp1',\n",
       " 'luizars2',\n",
       " 'giovannasc',\n",
       " 'gabrielno1',\n",
       " 'guilhermetb1',\n",
       " 'manuelacrc',\n",
       " 'leonardomm4',\n",
       " 'pedropmt',\n",
       " 'pedrotr',\n",
       " 'andreew',\n",
       " 'rafaels6',\n",
       " 'beatrizmkk',\n",
       " 'lucafs',\n",
       " 'abelcan',\n",
       " 'caiohf1',\n",
       " 'thomasqbs',\n",
       " 'rogerrfp',\n",
       " 'josehpn',\n",
       " 'lucaslv1',\n",
       " 'gustavobb',\n",
       " 'gustavomfb',\n",
       " 'micheljhvm',\n",
       " 'samuelnnp',\n",
       " 'henryfr1',\n",
       " 'ericfoa',\n",
       " 'joaopmjm',\n",
       " 'evandrofr',\n",
       " 'brunosd1',\n",
       " 'gabrielztk',\n",
       " 'pedrovf']"
      ]
     },
     "execution_count": 13,
     "metadata": {},
     "output_type": "execute_result"
    },
    {
     "data": {
      "image/png": "[encoded data removed]",
      "text/plain": [
       "<Figure size 432x288 with 1 Axes>"
      ]
     },
     "metadata": {},
     "output_type": "display_data"
    }
   ],
   "source": [
    "def get_sorted_list_from_dict(dic):\n",
    "    dic_f = sorted(dic.items(), key=operator.itemgetter(1))\n",
    "    ckeys=range(len(dic_f))\n",
    "    keys=[]\n",
    "    values=[]\n",
    "    for i in dic_f:\n",
    "        keys.append(i[0])\n",
    "        values.append(i[1])\n",
    "    return ckeys, keys, values\n",
    "\n",
    "bc = nx.betweenness_centrality(g)\n",
    "bc_ck,bc_k,bc_v=get_sorted_list_from_dict(bc)\n",
    "sns.scatterplot(bc_ck, bc_v);\n",
    "print(\"média: {}\".format(mean(bc_v)))\n",
    "print(\"Atores mais importantes:\")\n",
    "bc_k"
   ]
  },
  {
   "cell_type": "markdown",
   "metadata": {},
   "source": [
    "EOF"
   ]
  },
  {
   "cell_type": "code",
   "execution_count": null,
   "metadata": {},
   "outputs": [],
   "source": []
  }
 ],
 "metadata": {
  "kernelspec": {
   "display_name": "Python 3",
   "language": "python",
   "name": "python3"
  },
  "language_info": {
   "codemirror_mode": {
    "name": "ipython",
    "version": 3
   },
   "file_extension": ".py",
   "mimetype": "text/x-python",
   "name": "python",
   "nbconvert_exporter": "python",
   "pygments_lexer": "ipython3",
   "version": "3.8.1"
  }
 },
 "nbformat": 4,
 "nbformat_minor": 4
}
